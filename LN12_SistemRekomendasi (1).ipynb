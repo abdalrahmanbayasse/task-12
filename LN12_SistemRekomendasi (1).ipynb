{
  "cells": [
    {
      "cell_type": "markdown",
      "metadata": {
        "id": "OF5181kBdCrR"
      },
      "source": [
        "https://www.kaggle.com/code/abdallahwagih/collaborative-filtering-recommendation-system/notebook\n",
        "Collaborative Filtering Recommendation System\n",
        "Python · Anime Recommendations Database"
      ]
    },
    {
      "cell_type": "code",
      "execution_count": 1,
      "metadata": {
        "id": "KmBVr-xtXovR"
      },
      "outputs": [],
      "source": [
        "# Import needed modules\n",
        "import pandas as pd\n",
        "import numpy as np\n",
        "import scipy as sp\n",
        "from sklearn.metrics.pairwise import cosine_similarity\n",
        "import operator"
      ]
    },
    {
      "cell_type": "code",
      "execution_count": 3,
      "metadata": {
        "colab": {
          "base_uri": "https://localhost:8080/",
          "height": 206
        },
        "id": "W_xAVZ39ZXfZ",
        "outputId": "31daf041-10fc-476b-c7a3-e8485f1233e1"
      },
      "outputs": [
        {
          "data": {
            "text/html": [
              "<div>\n",
              "<style scoped>\n",
              "    .dataframe tbody tr th:only-of-type {\n",
              "        vertical-align: middle;\n",
              "    }\n",
              "\n",
              "    .dataframe tbody tr th {\n",
              "        vertical-align: top;\n",
              "    }\n",
              "\n",
              "    .dataframe thead th {\n",
              "        text-align: right;\n",
              "    }\n",
              "</style>\n",
              "<table border=\"1\" class=\"dataframe\">\n",
              "  <thead>\n",
              "    <tr style=\"text-align: right;\">\n",
              "      <th></th>\n",
              "      <th>anime_id</th>\n",
              "      <th>name</th>\n",
              "      <th>genre</th>\n",
              "      <th>type</th>\n",
              "      <th>episodes</th>\n",
              "      <th>rating</th>\n",
              "      <th>members</th>\n",
              "    </tr>\n",
              "  </thead>\n",
              "  <tbody>\n",
              "    <tr>\n",
              "      <th>0</th>\n",
              "      <td>32281</td>\n",
              "      <td>Kimi no Na wa.</td>\n",
              "      <td>Drama, Romance, School, Supernatural</td>\n",
              "      <td>Movie</td>\n",
              "      <td>1</td>\n",
              "      <td>9.37</td>\n",
              "      <td>200630</td>\n",
              "    </tr>\n",
              "    <tr>\n",
              "      <th>1</th>\n",
              "      <td>99933</td>\n",
              "      <td>Akame ga kill</td>\n",
              "      <td>Drama, Romance, School, Supernatural</td>\n",
              "      <td>Movie</td>\n",
              "      <td>1</td>\n",
              "      <td>9.97</td>\n",
              "      <td>200630</td>\n",
              "    </tr>\n",
              "    <tr>\n",
              "      <th>2</th>\n",
              "      <td>5114</td>\n",
              "      <td>Fullmetal Alchemist: Brotherhood</td>\n",
              "      <td>Action, Adventure, Drama, Fantasy, Magic, Mili...</td>\n",
              "      <td>TV</td>\n",
              "      <td>64</td>\n",
              "      <td>9.26</td>\n",
              "      <td>793665</td>\n",
              "    </tr>\n",
              "    <tr>\n",
              "      <th>3</th>\n",
              "      <td>28977</td>\n",
              "      <td>Gintama°</td>\n",
              "      <td>Action, Comedy, Historical, Parody, Samurai, S...</td>\n",
              "      <td>TV</td>\n",
              "      <td>51</td>\n",
              "      <td>9.25</td>\n",
              "      <td>114262</td>\n",
              "    </tr>\n",
              "    <tr>\n",
              "      <th>4</th>\n",
              "      <td>9253</td>\n",
              "      <td>Steins;Gate</td>\n",
              "      <td>Sci-Fi, Thriller</td>\n",
              "      <td>TV</td>\n",
              "      <td>24</td>\n",
              "      <td>9.17</td>\n",
              "      <td>673572</td>\n",
              "    </tr>\n",
              "  </tbody>\n",
              "</table>\n",
              "</div>"
            ],
            "text/plain": [
              "   anime_id                              name  \\\n",
              "0     32281                    Kimi no Na wa.   \n",
              "1     99933                    Akame ga kill    \n",
              "2      5114  Fullmetal Alchemist: Brotherhood   \n",
              "3     28977                          Gintama°   \n",
              "4      9253                       Steins;Gate   \n",
              "\n",
              "                                               genre    type episodes  rating  \\\n",
              "0               Drama, Romance, School, Supernatural   Movie        1    9.37   \n",
              "1               Drama, Romance, School, Supernatural   Movie        1    9.97   \n",
              "2  Action, Adventure, Drama, Fantasy, Magic, Mili...      TV       64    9.26   \n",
              "3  Action, Comedy, Historical, Parody, Samurai, S...      TV       51    9.25   \n",
              "4                                   Sci-Fi, Thriller      TV       24    9.17   \n",
              "\n",
              "   members  \n",
              "0   200630  \n",
              "1   200630  \n",
              "2   793665  \n",
              "3   114262  \n",
              "4   673572  "
            ]
          },
          "execution_count": 3,
          "metadata": {},
          "output_type": "execute_result"
        }
      ],
      "source": [
        "# Load the anime dataset\n",
        "anime_df = pd.read_csv('anime.csv')\n",
        "anime_df.head()"
      ]
    },
    {
      "cell_type": "code",
      "execution_count": 4,
      "metadata": {
        "colab": {
          "base_uri": "https://localhost:8080/",
          "height": 206
        },
        "id": "n7vFCV0xZmmx",
        "outputId": "3f9d07b8-8444-4703-df57-6c37e540fac8"
      },
      "outputs": [
        {
          "data": {
            "text/html": [
              "<div>\n",
              "<style scoped>\n",
              "    .dataframe tbody tr th:only-of-type {\n",
              "        vertical-align: middle;\n",
              "    }\n",
              "\n",
              "    .dataframe tbody tr th {\n",
              "        vertical-align: top;\n",
              "    }\n",
              "\n",
              "    .dataframe thead th {\n",
              "        text-align: right;\n",
              "    }\n",
              "</style>\n",
              "<table border=\"1\" class=\"dataframe\">\n",
              "  <thead>\n",
              "    <tr style=\"text-align: right;\">\n",
              "      <th></th>\n",
              "      <th>user_id</th>\n",
              "      <th>anime_id</th>\n",
              "      <th>rating</th>\n",
              "    </tr>\n",
              "  </thead>\n",
              "  <tbody>\n",
              "    <tr>\n",
              "      <th>0</th>\n",
              "      <td>1</td>\n",
              "      <td>20</td>\n",
              "      <td>-1</td>\n",
              "    </tr>\n",
              "    <tr>\n",
              "      <th>1</th>\n",
              "      <td>1</td>\n",
              "      <td>24</td>\n",
              "      <td>-1</td>\n",
              "    </tr>\n",
              "    <tr>\n",
              "      <th>2</th>\n",
              "      <td>1</td>\n",
              "      <td>79</td>\n",
              "      <td>-1</td>\n",
              "    </tr>\n",
              "    <tr>\n",
              "      <th>3</th>\n",
              "      <td>1</td>\n",
              "      <td>226</td>\n",
              "      <td>-1</td>\n",
              "    </tr>\n",
              "    <tr>\n",
              "      <th>4</th>\n",
              "      <td>1</td>\n",
              "      <td>241</td>\n",
              "      <td>-1</td>\n",
              "    </tr>\n",
              "  </tbody>\n",
              "</table>\n",
              "</div>"
            ],
            "text/plain": [
              "   user_id  anime_id  rating\n",
              "0        1        20      -1\n",
              "1        1        24      -1\n",
              "2        1        79      -1\n",
              "3        1       226      -1\n",
              "4        1       241      -1"
            ]
          },
          "execution_count": 4,
          "metadata": {},
          "output_type": "execute_result"
        }
      ],
      "source": [
        "# Load the rating dataset\n",
        "rating_df = pd.read_csv('rating.csv')\n",
        "rating_df.head()"
      ]
    },
    {
      "cell_type": "code",
      "execution_count": 5,
      "metadata": {
        "id": "oBNaaJOzbOCy"
      },
      "outputs": [],
      "source": [
        "# For computing reasons I'm limiting the dataframe length to 10,000 users\n",
        "rating_df = rating_df[rating_df.user_id <= 10000]"
      ]
    },
    {
      "cell_type": "code",
      "execution_count": 6,
      "metadata": {
        "id": "x1hSDNQpbPtB"
      },
      "outputs": [],
      "source": [
        "# Preprocess the rating dataset (handle -1 ratings as NaN)\n",
        "rating_df['rating'] = rating_df['rating'].replace(-1, pd.NA)"
      ]
    },
    {
      "cell_type": "code",
      "execution_count": 7,
      "metadata": {
        "id": "RLwO9_zfbV5J"
      },
      "outputs": [],
      "source": [
        " #Delete duplicated items\n",
        "rating_df = rating_df.drop_duplicates(['user_id', 'anime_id'])"
      ]
    },
    {
      "cell_type": "code",
      "execution_count": 8,
      "metadata": {
        "id": "atFB_0QNbbyK"
      },
      "outputs": [],
      "source": [
        "# Create a user-item interaction matrix\n",
        "user_item_matrix = rating_df.pivot(index='user_id', columns='anime_id', values='rating')"
      ]
    },
    {
      "cell_type": "code",
      "execution_count": 24,
      "metadata": {
        "id": "vIozj9hZbi_-"
      },
      "outputs": [],
      "source": [
        "# Calculate user similarity using cosine similarity\n",
        "user_similarity = cosine_similarity(user_item_matrix.fillna(0))"
      ]
    },
    {
      "cell_type": "code",
      "execution_count": 25,
      "metadata": {
        "id": "kJto7rvQcMsY"
      },
      "outputs": [],
      "source": [
        "def user_based_recommendations(user_id, user_item_matrix, user_similarity, n=5):\n",
        "    # Get the similarity scores for the target user\n",
        "    user_scores = user_similarity[user_id - 1]\n",
        "\n",
        "    # Sort users by similarity in descending order\n",
        "    similar_users = sorted(enumerate(user_scores), key=lambda x: x[1], reverse=True)\n",
        "\n",
        "    # Initialize a list to store recommended anime\n",
        "    recommended_anime = []\n",
        "\n",
        "    for user, score in similar_users[1:]:  # Exclude the target user\n",
        "        # Get the anime the similar user has rated positively\n",
        "        rated_anime = user_item_matrix.loc[user_item_matrix.index[user - 1]]\n",
        "        positively_rated_anime = rated_anime[rated_anime >= 6].index\n",
        "\n",
        "        # Exclude anime the target user has already rated\n",
        "        target_user_rated_anime = user_item_matrix.loc[user_id].dropna().index\n",
        "        recommended_anime.extend(set(positively_rated_anime) - set(target_user_rated_anime))\n",
        "\n",
        "        # Limit the number of recommendations\n",
        "        if len(recommended_anime) >= n:\n",
        "            break\n",
        "\n",
        "    return recommended_anime[:n]"
      ]
    },
    {
      "cell_type": "code",
      "execution_count": 26,
      "metadata": {
        "id": "A12ydjr9cPEG"
      },
      "outputs": [],
      "source": [
        "# Calculate item similarity using cosine similarity\n",
        "item_similarity = cosine_similarity(user_item_matrix.fillna(0).T)"
      ]
    },
    {
      "cell_type": "code",
      "execution_count": 27,
      "metadata": {
        "id": "JnFzznPncqPa"
      },
      "outputs": [],
      "source": [
        "def item_based_recommendations(user_id, user_item_matrix, item_similarity, n=5):\n",
        "    # Get the anime the user has rated positively\n",
        "    positively_rated_anime = user_item_matrix.loc[user_id][user_item_matrix.loc[user_id] >= 6].index\n",
        "\n",
        "    # Initialize a list to store recommended anime\n",
        "    recommended_anime = []\n",
        "\n",
        "    for anime_id in positively_rated_anime:\n",
        "        # Get anime similar to the liked anime\n",
        "        similar_anime = item_similarity[anime_id - 1]\n",
        "\n",
        "        # Sort similar anime by similarity in descending order\n",
        "        similar_anime_sorted = sorted(enumerate(similar_anime), key=lambda x: x[1], reverse=True)\n",
        "\n",
        "        for anime, score in similar_anime_sorted[1:]:  # Exclude the liked anime\n",
        "            # Exclude anime the user has already rated\n",
        "            user_rated_anime = user_item_matrix.loc[user_id].dropna().index\n",
        "            if anime not in user_rated_anime:\n",
        "                recommended_anime.append(anime)\n",
        "\n",
        "            # Limit the number of recommendations\n",
        "            if len(recommended_anime) >= n:\n",
        "                break\n",
        "\n",
        "    return recommended_anime[:n]"
      ]
    },
    {
      "cell_type": "code",
      "execution_count": 28,
      "metadata": {
        "id": "KCIxbAAPcsKU"
      },
      "outputs": [],
      "source": [
        "# Choose a user ID for testing\n",
        "user_id = 9  # Replace with the user ID you want to test\n",
        "\n",
        "# Test user-based recommendations\n",
        "user_recommendations = user_based_recommendations(user_id, user_item_matrix, user_similarity, n=5)\n",
        "\n",
        "# Test item-based recommendations\n",
        "item_recommendations = item_based_recommendations(user_id, user_item_matrix, item_similarity, n=5)"
      ]
    },
    {
      "cell_type": "code",
      "execution_count": 29,
      "metadata": {
        "colab": {
          "base_uri": "https://localhost:8080/"
        },
        "id": "W6ytCnfwc0Ws",
        "outputId": "606d8042-e457-4ae6-cc26-75487795ff3a"
      },
      "outputs": [
        {
          "name": "stdout",
          "output_type": "stream",
          "text": [
            "User-Based Recommendations for User 9:\n",
            "- Campione!: Matsurowanu Kamigami to Kamigoroshi no Maou\n",
            "- Yamada-kun to 7-nin no Majo (TV)\n",
            "- Re:Zero kara Hajimeru Isekai Seikatsu\n",
            "- Haiyore! Nyaruko-san\n",
            "- Ore ga Ojousama Gakkou ni &quot;Shomin Sample&quot; Toshite Gets♥Sareta Ken\n",
            "\n",
            "Item-Based Recommendations for User 9:\n",
            "- Toshokan Sensou\n",
            "- Black Jack (TV)\n",
            "- Hi no Tori: Houou-hen\n",
            "- Yume Miru, Anime: on-chan\n",
            "- Kakyuusei 2: Sketchbook\n"
          ]
        }
      ],
      "source": [
        "# Display the recommendations\n",
        "print(f\"User-Based Recommendations for User {user_id}:\")\n",
        "for anime_id in user_recommendations:\n",
        "    anime_name = anime_df.loc[anime_df['anime_id'] == anime_id, 'name'].values[0]\n",
        "    print(f\"- {anime_name}\")\n",
        "\n",
        "print(f\"\\nItem-Based Recommendations for User {user_id}:\")\n",
        "for anime_id in item_recommendations:\n",
        "    anime_name = anime_df.loc[anime_df['anime_id'] == anime_id, 'name'].values[0]\n",
        "    print(f\"- {anime_name}\")"
      ]
    }
  ],
  "metadata": {
    "colab": {
      "provenance": []
    },
    "kernelspec": {
      "display_name": "Python 3",
      "name": "python3"
    },
    "language_info": {
      "codemirror_mode": {
        "name": "ipython",
        "version": 3
      },
      "file_extension": ".py",
      "mimetype": "text/x-python",
      "name": "python",
      "nbconvert_exporter": "python",
      "pygments_lexer": "ipython3",
      "version": "3.8.2"
    }
  },
  "nbformat": 4,
  "nbformat_minor": 0
}
